{
 "cells": [
  {
   "cell_type": "markdown",
   "metadata": {},
   "source": [
    "## Deliverable 3. Create a Travel Itinerary Map."
   ]
  },
  {
   "cell_type": "code",
   "execution_count": 1,
   "metadata": {},
   "outputs": [],
   "source": [
    "# Dependencies and Setup\n",
    "import pandas as pd\n",
    "import requests\n",
    "import gmaps\n",
    "import gmaps.datasets\n",
    "\n",
    "\n",
    "# Import API key\n",
    "from config import g_key\n",
    "\n",
    "# Configure gmaps\n",
    "gmaps.configure(api_key=g_key)"
   ]
  },
  {
   "cell_type": "code",
   "execution_count": 2,
   "metadata": {},
   "outputs": [
    {
     "data": {
      "text/html": [
       "<div>\n",
       "<style scoped>\n",
       "    .dataframe tbody tr th:only-of-type {\n",
       "        vertical-align: middle;\n",
       "    }\n",
       "\n",
       "    .dataframe tbody tr th {\n",
       "        vertical-align: top;\n",
       "    }\n",
       "\n",
       "    .dataframe thead th {\n",
       "        text-align: right;\n",
       "    }\n",
       "</style>\n",
       "<table border=\"1\" class=\"dataframe\">\n",
       "  <thead>\n",
       "    <tr style=\"text-align: right;\">\n",
       "      <th></th>\n",
       "      <th>City_ID</th>\n",
       "      <th>City</th>\n",
       "      <th>Country</th>\n",
       "      <th>Max Temp</th>\n",
       "      <th>Current Description</th>\n",
       "      <th>Lat</th>\n",
       "      <th>Lng</th>\n",
       "      <th>Hotel Name</th>\n",
       "    </tr>\n",
       "  </thead>\n",
       "  <tbody>\n",
       "    <tr>\n",
       "      <th>0</th>\n",
       "      <td>1</td>\n",
       "      <td>Lander</td>\n",
       "      <td>US</td>\n",
       "      <td>78.80</td>\n",
       "      <td>clear sky</td>\n",
       "      <td>42.83</td>\n",
       "      <td>-108.73</td>\n",
       "      <td>Holiday Inn Express &amp; Suites Lander</td>\n",
       "    </tr>\n",
       "    <tr>\n",
       "      <th>1</th>\n",
       "      <td>4</td>\n",
       "      <td>Komsomolskiy</td>\n",
       "      <td>UZ</td>\n",
       "      <td>80.60</td>\n",
       "      <td>clear sky</td>\n",
       "      <td>40.43</td>\n",
       "      <td>71.72</td>\n",
       "      <td>Ikathouse</td>\n",
       "    </tr>\n",
       "    <tr>\n",
       "      <th>2</th>\n",
       "      <td>8</td>\n",
       "      <td>Alofi</td>\n",
       "      <td>NU</td>\n",
       "      <td>71.60</td>\n",
       "      <td>light rain</td>\n",
       "      <td>-19.06</td>\n",
       "      <td>-169.92</td>\n",
       "      <td>Taloa Heights</td>\n",
       "    </tr>\n",
       "    <tr>\n",
       "      <th>3</th>\n",
       "      <td>9</td>\n",
       "      <td>Bonavista</td>\n",
       "      <td>CA</td>\n",
       "      <td>70.97</td>\n",
       "      <td>few clouds</td>\n",
       "      <td>48.65</td>\n",
       "      <td>-53.11</td>\n",
       "      <td>Abbott's Bed &amp; Breakfast</td>\n",
       "    </tr>\n",
       "    <tr>\n",
       "      <th>4</th>\n",
       "      <td>12</td>\n",
       "      <td>Laohekou</td>\n",
       "      <td>CN</td>\n",
       "      <td>81.27</td>\n",
       "      <td>overcast clouds</td>\n",
       "      <td>32.39</td>\n",
       "      <td>111.67</td>\n",
       "      <td>Laohekou Hotel</td>\n",
       "    </tr>\n",
       "  </tbody>\n",
       "</table>\n",
       "</div>"
      ],
      "text/plain": [
       "   City_ID          City Country  Max Temp Current Description    Lat     Lng  \\\n",
       "0        1        Lander      US     78.80           clear sky  42.83 -108.73   \n",
       "1        4  Komsomolskiy      UZ     80.60           clear sky  40.43   71.72   \n",
       "2        8         Alofi      NU     71.60          light rain -19.06 -169.92   \n",
       "3        9     Bonavista      CA     70.97          few clouds  48.65  -53.11   \n",
       "4       12      Laohekou      CN     81.27     overcast clouds  32.39  111.67   \n",
       "\n",
       "                            Hotel Name  \n",
       "0  Holiday Inn Express & Suites Lander  \n",
       "1                            Ikathouse  \n",
       "2                        Taloa Heights  \n",
       "3             Abbott's Bed & Breakfast  \n",
       "4                       Laohekou Hotel  "
      ]
     },
     "execution_count": 2,
     "metadata": {},
     "output_type": "execute_result"
    }
   ],
   "source": [
    "# 1. Read the WeatherPy_vacation.csv into a DataFrame.\n",
    "vacation_df = pd.read_csv(\"../Vacation_Search/WeatherPy_vacation.csv\")\n",
    "vacation_df.head()"
   ]
  },
  {
   "cell_type": "code",
   "execution_count": 3,
   "metadata": {},
   "outputs": [],
   "source": [
    "# 2. Using the template add the city name, the country code, the weather description and maximum temperature for the city.\n",
    "info_box_template = \"\"\"\n",
    "<dl>\n",
    "<dt>Hotel Name</dt><dd>{Hotel Name}</dd>\n",
    "<dt>City</dt><dd>{City}</dd>\n",
    "<dt>Country</dt><dd>{Country}</dd>\n",
    "<dt>Current Weather</dt><dd>{Current Description}</dd>\n",
    "<dt>Max Temp</dt><dd>{Max Temp} °F</dd>\n",
    "</dl>\n",
    "\"\"\"\n",
    "\n",
    "# 3a. Get the data from each row and add it to the formatting template and store the data in a list.\n",
    "hotel_info = [info_box_template.format(**row) for index, row in vacation_df.iterrows()]\n",
    "\n",
    "# 3b. Get the latitude and longitude from each row and store in a new DataFrame.\n",
    "locations = vacation_df[[\"Lat\", \"Lng\"]]"
   ]
  },
  {
   "cell_type": "code",
   "execution_count": 4,
   "metadata": {},
   "outputs": [
    {
     "data": {
      "application/vnd.jupyter.widget-view+json": {
       "model_id": "05a9422b7e7b4c69bab6ad936435726b",
       "version_major": 2,
       "version_minor": 0
      },
      "text/plain": [
       "Figure(layout=FigureLayout(height='420px'))"
      ]
     },
     "metadata": {},
     "output_type": "display_data"
    }
   ],
   "source": [
    "# 4a. Add a marker layer for each city to the map.\n",
    "fig = gmaps.figure(center=(30.0, 31.0), zoom_level=1.5)\n",
    "marker_layer = gmaps.marker_layer(locations, info_box_content=hotel_info)\n",
    "fig.add_layer(marker_layer)\n",
    "\n",
    "# 4b. Display the figure\n",
    "fig"
   ]
  },
  {
   "cell_type": "code",
   "execution_count": 5,
   "metadata": {},
   "outputs": [
    {
     "data": {
      "text/html": [
       "<div>\n",
       "<style scoped>\n",
       "    .dataframe tbody tr th:only-of-type {\n",
       "        vertical-align: middle;\n",
       "    }\n",
       "\n",
       "    .dataframe tbody tr th {\n",
       "        vertical-align: top;\n",
       "    }\n",
       "\n",
       "    .dataframe thead th {\n",
       "        text-align: right;\n",
       "    }\n",
       "</style>\n",
       "<table border=\"1\" class=\"dataframe\">\n",
       "  <thead>\n",
       "    <tr style=\"text-align: right;\">\n",
       "      <th></th>\n",
       "      <th>City_ID</th>\n",
       "      <th>Country</th>\n",
       "      <th>Max Temp</th>\n",
       "      <th>Current Description</th>\n",
       "      <th>Lat</th>\n",
       "      <th>Lng</th>\n",
       "      <th>Hotel Name</th>\n",
       "    </tr>\n",
       "    <tr>\n",
       "      <th>City</th>\n",
       "      <th></th>\n",
       "      <th></th>\n",
       "      <th></th>\n",
       "      <th></th>\n",
       "      <th></th>\n",
       "      <th></th>\n",
       "      <th></th>\n",
       "    </tr>\n",
       "  </thead>\n",
       "  <tbody>\n",
       "    <tr>\n",
       "      <th>Lander</th>\n",
       "      <td>1</td>\n",
       "      <td>US</td>\n",
       "      <td>78.80</td>\n",
       "      <td>clear sky</td>\n",
       "      <td>42.83</td>\n",
       "      <td>-108.73</td>\n",
       "      <td>Holiday Inn Express &amp; Suites Lander</td>\n",
       "    </tr>\n",
       "    <tr>\n",
       "      <th>Komsomolskiy</th>\n",
       "      <td>4</td>\n",
       "      <td>UZ</td>\n",
       "      <td>80.60</td>\n",
       "      <td>clear sky</td>\n",
       "      <td>40.43</td>\n",
       "      <td>71.72</td>\n",
       "      <td>Ikathouse</td>\n",
       "    </tr>\n",
       "    <tr>\n",
       "      <th>Alofi</th>\n",
       "      <td>8</td>\n",
       "      <td>NU</td>\n",
       "      <td>71.60</td>\n",
       "      <td>light rain</td>\n",
       "      <td>-19.06</td>\n",
       "      <td>-169.92</td>\n",
       "      <td>Taloa Heights</td>\n",
       "    </tr>\n",
       "    <tr>\n",
       "      <th>Bonavista</th>\n",
       "      <td>9</td>\n",
       "      <td>CA</td>\n",
       "      <td>70.97</td>\n",
       "      <td>few clouds</td>\n",
       "      <td>48.65</td>\n",
       "      <td>-53.11</td>\n",
       "      <td>Abbott's Bed &amp; Breakfast</td>\n",
       "    </tr>\n",
       "    <tr>\n",
       "      <th>Laohekou</th>\n",
       "      <td>12</td>\n",
       "      <td>CN</td>\n",
       "      <td>81.27</td>\n",
       "      <td>overcast clouds</td>\n",
       "      <td>32.39</td>\n",
       "      <td>111.67</td>\n",
       "      <td>Laohekou Hotel</td>\n",
       "    </tr>\n",
       "  </tbody>\n",
       "</table>\n",
       "</div>"
      ],
      "text/plain": [
       "              City_ID Country  Max Temp Current Description    Lat     Lng  \\\n",
       "City                                                                         \n",
       "Lander              1      US     78.80           clear sky  42.83 -108.73   \n",
       "Komsomolskiy        4      UZ     80.60           clear sky  40.43   71.72   \n",
       "Alofi               8      NU     71.60          light rain -19.06 -169.92   \n",
       "Bonavista           9      CA     70.97          few clouds  48.65  -53.11   \n",
       "Laohekou           12      CN     81.27     overcast clouds  32.39  111.67   \n",
       "\n",
       "                                       Hotel Name  \n",
       "City                                               \n",
       "Lander        Holiday Inn Express & Suites Lander  \n",
       "Komsomolskiy                            Ikathouse  \n",
       "Alofi                               Taloa Heights  \n",
       "Bonavista                Abbott's Bed & Breakfast  \n",
       "Laohekou                           Laohekou Hotel  "
      ]
     },
     "execution_count": 5,
     "metadata": {},
     "output_type": "execute_result"
    }
   ],
   "source": [
    "vacation_df.set_index('City', inplace=True)\n",
    "vacation_df.head()"
   ]
  },
  {
   "cell_type": "code",
   "execution_count": 6,
   "metadata": {},
   "outputs": [],
   "source": [
    "# From the map above pick 4 cities and create a vacation itinerary route to travel between the four cities. \n",
    "# 5. Create DataFrames for each city by filtering the 'vacation_df' using the loc method. \n",
    "# Hint: The starting and ending city should be the same city.\n",
    "\n",
    "vacation_start = vacation_df.loc[[\"Luton\"]]\n",
    "vacation_end = vacation_df.loc[[\"Luton\"]]\n",
    "vacation_stop1 = vacation_df.loc[[\"Margate\"]]\n",
    "vacation_stop2 = vacation_df.loc[[\"Newport\"]] \n",
    "vacation_stop3 = vacation_df.loc[[\"Liverpool\"]]"
   ]
  },
  {
   "cell_type": "code",
   "execution_count": 7,
   "metadata": {},
   "outputs": [
    {
     "data": {
      "text/html": [
       "<div>\n",
       "<style scoped>\n",
       "    .dataframe tbody tr th:only-of-type {\n",
       "        vertical-align: middle;\n",
       "    }\n",
       "\n",
       "    .dataframe tbody tr th {\n",
       "        vertical-align: top;\n",
       "    }\n",
       "\n",
       "    .dataframe thead th {\n",
       "        text-align: right;\n",
       "    }\n",
       "</style>\n",
       "<table border=\"1\" class=\"dataframe\">\n",
       "  <thead>\n",
       "    <tr style=\"text-align: right;\">\n",
       "      <th></th>\n",
       "      <th>City_ID</th>\n",
       "      <th>Country</th>\n",
       "      <th>Max Temp</th>\n",
       "      <th>Current Description</th>\n",
       "      <th>Lat</th>\n",
       "      <th>Lng</th>\n",
       "      <th>Hotel Name</th>\n",
       "    </tr>\n",
       "    <tr>\n",
       "      <th>City</th>\n",
       "      <th></th>\n",
       "      <th></th>\n",
       "      <th></th>\n",
       "      <th></th>\n",
       "      <th></th>\n",
       "      <th></th>\n",
       "      <th></th>\n",
       "    </tr>\n",
       "  </thead>\n",
       "  <tbody>\n",
       "    <tr>\n",
       "      <th>Luton</th>\n",
       "      <td>321</td>\n",
       "      <td>GB</td>\n",
       "      <td>81.0</td>\n",
       "      <td>broken clouds</td>\n",
       "      <td>51.88</td>\n",
       "      <td>-0.42</td>\n",
       "      <td>Hampton by Hilton London Luton Airport</td>\n",
       "    </tr>\n",
       "  </tbody>\n",
       "</table>\n",
       "</div>"
      ],
      "text/plain": [
       "       City_ID Country  Max Temp Current Description    Lat   Lng  \\\n",
       "City                                                                \n",
       "Luton      321      GB      81.0       broken clouds  51.88 -0.42   \n",
       "\n",
       "                                   Hotel Name  \n",
       "City                                           \n",
       "Luton  Hampton by Hilton London Luton Airport  "
      ]
     },
     "execution_count": 7,
     "metadata": {},
     "output_type": "execute_result"
    }
   ],
   "source": [
    "# 4 data frames crated, one for each city on itinerary\n",
    "#Luton, GB\n",
    "vacation_start"
   ]
  },
  {
   "cell_type": "code",
   "execution_count": 8,
   "metadata": {},
   "outputs": [
    {
     "data": {
      "text/html": [
       "<div>\n",
       "<style scoped>\n",
       "    .dataframe tbody tr th:only-of-type {\n",
       "        vertical-align: middle;\n",
       "    }\n",
       "\n",
       "    .dataframe tbody tr th {\n",
       "        vertical-align: top;\n",
       "    }\n",
       "\n",
       "    .dataframe thead th {\n",
       "        text-align: right;\n",
       "    }\n",
       "</style>\n",
       "<table border=\"1\" class=\"dataframe\">\n",
       "  <thead>\n",
       "    <tr style=\"text-align: right;\">\n",
       "      <th></th>\n",
       "      <th>City_ID</th>\n",
       "      <th>Country</th>\n",
       "      <th>Max Temp</th>\n",
       "      <th>Current Description</th>\n",
       "      <th>Lat</th>\n",
       "      <th>Lng</th>\n",
       "      <th>Hotel Name</th>\n",
       "    </tr>\n",
       "    <tr>\n",
       "      <th>City</th>\n",
       "      <th></th>\n",
       "      <th></th>\n",
       "      <th></th>\n",
       "      <th></th>\n",
       "      <th></th>\n",
       "      <th></th>\n",
       "      <th></th>\n",
       "    </tr>\n",
       "  </thead>\n",
       "  <tbody>\n",
       "    <tr>\n",
       "      <th>Margate</th>\n",
       "      <td>383</td>\n",
       "      <td>GB</td>\n",
       "      <td>82.99</td>\n",
       "      <td>few clouds</td>\n",
       "      <td>51.38</td>\n",
       "      <td>1.39</td>\n",
       "      <td>Premier Inn Margate hotel</td>\n",
       "    </tr>\n",
       "  </tbody>\n",
       "</table>\n",
       "</div>"
      ],
      "text/plain": [
       "         City_ID Country  Max Temp Current Description    Lat   Lng  \\\n",
       "City                                                                  \n",
       "Margate      383      GB     82.99          few clouds  51.38  1.39   \n",
       "\n",
       "                        Hotel Name  \n",
       "City                                \n",
       "Margate  Premier Inn Margate hotel  "
      ]
     },
     "execution_count": 8,
     "metadata": {},
     "output_type": "execute_result"
    }
   ],
   "source": [
    "#Margate, GB\n",
    "vacation_stop1"
   ]
  },
  {
   "cell_type": "code",
   "execution_count": 9,
   "metadata": {},
   "outputs": [
    {
     "data": {
      "text/html": [
       "<div>\n",
       "<style scoped>\n",
       "    .dataframe tbody tr th:only-of-type {\n",
       "        vertical-align: middle;\n",
       "    }\n",
       "\n",
       "    .dataframe tbody tr th {\n",
       "        vertical-align: top;\n",
       "    }\n",
       "\n",
       "    .dataframe thead th {\n",
       "        text-align: right;\n",
       "    }\n",
       "</style>\n",
       "<table border=\"1\" class=\"dataframe\">\n",
       "  <thead>\n",
       "    <tr style=\"text-align: right;\">\n",
       "      <th></th>\n",
       "      <th>City_ID</th>\n",
       "      <th>Country</th>\n",
       "      <th>Max Temp</th>\n",
       "      <th>Current Description</th>\n",
       "      <th>Lat</th>\n",
       "      <th>Lng</th>\n",
       "      <th>Hotel Name</th>\n",
       "    </tr>\n",
       "    <tr>\n",
       "      <th>City</th>\n",
       "      <th></th>\n",
       "      <th></th>\n",
       "      <th></th>\n",
       "      <th></th>\n",
       "      <th></th>\n",
       "      <th></th>\n",
       "      <th></th>\n",
       "    </tr>\n",
       "  </thead>\n",
       "  <tbody>\n",
       "    <tr>\n",
       "      <th>Newport</th>\n",
       "      <td>68</td>\n",
       "      <td>GB</td>\n",
       "      <td>73.99</td>\n",
       "      <td>light rain</td>\n",
       "      <td>51.59</td>\n",
       "      <td>-3.0</td>\n",
       "      <td>ibis budget Newport</td>\n",
       "    </tr>\n",
       "  </tbody>\n",
       "</table>\n",
       "</div>"
      ],
      "text/plain": [
       "         City_ID Country  Max Temp Current Description    Lat  Lng  \\\n",
       "City                                                                 \n",
       "Newport       68      GB     73.99          light rain  51.59 -3.0   \n",
       "\n",
       "                  Hotel Name  \n",
       "City                          \n",
       "Newport  ibis budget Newport  "
      ]
     },
     "execution_count": 9,
     "metadata": {},
     "output_type": "execute_result"
    }
   ],
   "source": [
    "#Newport, GB\n",
    "vacation_stop2"
   ]
  },
  {
   "cell_type": "code",
   "execution_count": 10,
   "metadata": {},
   "outputs": [
    {
     "data": {
      "text/html": [
       "<div>\n",
       "<style scoped>\n",
       "    .dataframe tbody tr th:only-of-type {\n",
       "        vertical-align: middle;\n",
       "    }\n",
       "\n",
       "    .dataframe tbody tr th {\n",
       "        vertical-align: top;\n",
       "    }\n",
       "\n",
       "    .dataframe thead th {\n",
       "        text-align: right;\n",
       "    }\n",
       "</style>\n",
       "<table border=\"1\" class=\"dataframe\">\n",
       "  <thead>\n",
       "    <tr style=\"text-align: right;\">\n",
       "      <th></th>\n",
       "      <th>City_ID</th>\n",
       "      <th>Country</th>\n",
       "      <th>Max Temp</th>\n",
       "      <th>Current Description</th>\n",
       "      <th>Lat</th>\n",
       "      <th>Lng</th>\n",
       "      <th>Hotel Name</th>\n",
       "    </tr>\n",
       "    <tr>\n",
       "      <th>City</th>\n",
       "      <th></th>\n",
       "      <th></th>\n",
       "      <th></th>\n",
       "      <th></th>\n",
       "      <th></th>\n",
       "      <th></th>\n",
       "      <th></th>\n",
       "    </tr>\n",
       "  </thead>\n",
       "  <tbody>\n",
       "    <tr>\n",
       "      <th>Liverpool</th>\n",
       "      <td>659</td>\n",
       "      <td>GB</td>\n",
       "      <td>75.0</td>\n",
       "      <td>scattered clouds</td>\n",
       "      <td>53.41</td>\n",
       "      <td>-2.98</td>\n",
       "      <td>Premier Inn Liverpool City Centre (Moorfields)...</td>\n",
       "    </tr>\n",
       "  </tbody>\n",
       "</table>\n",
       "</div>"
      ],
      "text/plain": [
       "           City_ID Country  Max Temp Current Description    Lat   Lng  \\\n",
       "City                                                                    \n",
       "Liverpool      659      GB      75.0    scattered clouds  53.41 -2.98   \n",
       "\n",
       "                                                  Hotel Name  \n",
       "City                                                          \n",
       "Liverpool  Premier Inn Liverpool City Centre (Moorfields)...  "
      ]
     },
     "execution_count": 10,
     "metadata": {},
     "output_type": "execute_result"
    }
   ],
   "source": [
    "#Liverpool, GB\n",
    "vacation_stop3"
   ]
  },
  {
   "cell_type": "code",
   "execution_count": 11,
   "metadata": {},
   "outputs": [
    {
     "data": {
      "text/plain": [
       "dtype('float64')"
      ]
     },
     "execution_count": 11,
     "metadata": {},
     "output_type": "execute_result"
    }
   ],
   "source": [
    "# 6. Get the latitude-longitude pairs as tuples from each city DataFrame using the to_numpy function and list indexing.\n",
    "start = vacation_start[[\"Lat\", \"Lng\"]].to_numpy()\n",
    "end = vacation_end[[\"Lat\", \"Lng\"]].to_numpy()\n",
    "stop1 = vacation_stop1[[\"Lat\", \"Lng\"]].to_numpy()\n",
    "stop2 = vacation_stop2[[\"Lat\", \"Lng\"]].to_numpy()\n",
    "stop3 = vacation_stop3[[\"Lat\", \"Lng\"]].to_numpy()\n",
    "end.dtype"
   ]
  },
  {
   "cell_type": "code",
   "execution_count": 12,
   "metadata": {},
   "outputs": [
    {
     "name": "stdout",
     "output_type": "stream",
     "text": [
      "Luton, GB: (51.88, -0.42)\n",
      "Margate, GB: (51.38, 1.39)\n",
      "Newport, GB: (51.59, -3.0)\n",
      "Liverpool, GB: (53.41, -2.98)\n"
     ]
    }
   ],
   "source": [
    "# The latitude and longitude pairs for each of the four cities are retrieved\n",
    "start_coord = tuple(start.reshape(1, -1)[0])\n",
    "print(f'Luton, GB: {start_coord}')\n",
    "stop1_coord = tuple(stop1.reshape(1, -1)[0])\n",
    "print(f'Margate, GB: {stop1_coord}')\n",
    "stop2_coord = tuple(stop2.reshape(1, -1)[0])\n",
    "print(f'Newport, GB: {stop2_coord}')\n",
    "stop3_coord = tuple(stop3.reshape(1, -1)[0])\n",
    "print(f'Liverpool, GB: {stop3_coord}')\n",
    "end_coord = tuple(end.reshape(1, -1)[0])"
   ]
  },
  {
   "cell_type": "code",
   "execution_count": 13,
   "metadata": {
    "scrolled": true
   },
   "outputs": [
    {
     "data": {
      "application/vnd.jupyter.widget-view+json": {
       "model_id": "8d1be826bd5948ff844ac8cd29890d89",
       "version_major": 2,
       "version_minor": 0
      },
      "text/plain": [
       "Figure(layout=FigureLayout(height='420px'))"
      ]
     },
     "metadata": {},
     "output_type": "display_data"
    }
   ],
   "source": [
    "# 7. Create a direction layer map using the start and end latitude-longitude pairs,\n",
    "# and stop1, stop2, and stop3 as the waypoints. The travel_mode should be \"DRIVING\", \"BICYCLING\", or \"WALKING\".\n",
    "fig = gmaps.figure()\n",
    "vacation_map = gmaps.directions_layer(start_coord, end_coord, waypoints=[stop1_coord, stop2_coord, stop3_coord], travel_mode='DRIVING')\n",
    "fig.add_layer(vacation_map)\n",
    "fig"
   ]
  },
  {
   "cell_type": "code",
   "execution_count": 14,
   "metadata": {},
   "outputs": [
    {
     "data": {
      "text/html": [
       "<div>\n",
       "<style scoped>\n",
       "    .dataframe tbody tr th:only-of-type {\n",
       "        vertical-align: middle;\n",
       "    }\n",
       "\n",
       "    .dataframe tbody tr th {\n",
       "        vertical-align: top;\n",
       "    }\n",
       "\n",
       "    .dataframe thead th {\n",
       "        text-align: right;\n",
       "    }\n",
       "</style>\n",
       "<table border=\"1\" class=\"dataframe\">\n",
       "  <thead>\n",
       "    <tr style=\"text-align: right;\">\n",
       "      <th></th>\n",
       "      <th>City_ID</th>\n",
       "      <th>Country</th>\n",
       "      <th>Max Temp</th>\n",
       "      <th>Current Description</th>\n",
       "      <th>Lat</th>\n",
       "      <th>Lng</th>\n",
       "      <th>Hotel Name</th>\n",
       "    </tr>\n",
       "    <tr>\n",
       "      <th>City</th>\n",
       "      <th></th>\n",
       "      <th></th>\n",
       "      <th></th>\n",
       "      <th></th>\n",
       "      <th></th>\n",
       "      <th></th>\n",
       "      <th></th>\n",
       "    </tr>\n",
       "  </thead>\n",
       "  <tbody>\n",
       "    <tr>\n",
       "      <th>Luton</th>\n",
       "      <td>321</td>\n",
       "      <td>GB</td>\n",
       "      <td>81.00</td>\n",
       "      <td>broken clouds</td>\n",
       "      <td>51.88</td>\n",
       "      <td>-0.42</td>\n",
       "      <td>Hampton by Hilton London Luton Airport</td>\n",
       "    </tr>\n",
       "    <tr>\n",
       "      <th>Margate</th>\n",
       "      <td>383</td>\n",
       "      <td>GB</td>\n",
       "      <td>82.99</td>\n",
       "      <td>few clouds</td>\n",
       "      <td>51.38</td>\n",
       "      <td>1.39</td>\n",
       "      <td>Premier Inn Margate hotel</td>\n",
       "    </tr>\n",
       "    <tr>\n",
       "      <th>Newport</th>\n",
       "      <td>68</td>\n",
       "      <td>GB</td>\n",
       "      <td>73.99</td>\n",
       "      <td>light rain</td>\n",
       "      <td>51.59</td>\n",
       "      <td>-3.00</td>\n",
       "      <td>ibis budget Newport</td>\n",
       "    </tr>\n",
       "    <tr>\n",
       "      <th>Liverpool</th>\n",
       "      <td>659</td>\n",
       "      <td>GB</td>\n",
       "      <td>75.00</td>\n",
       "      <td>scattered clouds</td>\n",
       "      <td>53.41</td>\n",
       "      <td>-2.98</td>\n",
       "      <td>Premier Inn Liverpool City Centre (Moorfields)...</td>\n",
       "    </tr>\n",
       "  </tbody>\n",
       "</table>\n",
       "</div>"
      ],
      "text/plain": [
       "           City_ID Country  Max Temp Current Description    Lat   Lng  \\\n",
       "City                                                                    \n",
       "Luton          321      GB     81.00       broken clouds  51.88 -0.42   \n",
       "Margate        383      GB     82.99          few clouds  51.38  1.39   \n",
       "Newport         68      GB     73.99          light rain  51.59 -3.00   \n",
       "Liverpool      659      GB     75.00    scattered clouds  53.41 -2.98   \n",
       "\n",
       "                                                  Hotel Name  \n",
       "City                                                          \n",
       "Luton                 Hampton by Hilton London Luton Airport  \n",
       "Margate                            Premier Inn Margate hotel  \n",
       "Newport                                  ibis budget Newport  \n",
       "Liverpool  Premier Inn Liverpool City Centre (Moorfields)...  "
      ]
     },
     "execution_count": 14,
     "metadata": {},
     "output_type": "execute_result"
    }
   ],
   "source": [
    "# 8. To create a marker layer map between the four cities.\n",
    "#  Combine the four city DataFrames into one DataFrame using the concat() function.\n",
    "itinerary_df = pd.concat([vacation_start, vacation_stop1, vacation_stop2, vacation_stop3])\n",
    "itinerary_df"
   ]
  },
  {
   "cell_type": "code",
   "execution_count": 15,
   "metadata": {},
   "outputs": [
    {
     "data": {
      "text/html": [
       "<div>\n",
       "<style scoped>\n",
       "    .dataframe tbody tr th:only-of-type {\n",
       "        vertical-align: middle;\n",
       "    }\n",
       "\n",
       "    .dataframe tbody tr th {\n",
       "        vertical-align: top;\n",
       "    }\n",
       "\n",
       "    .dataframe thead th {\n",
       "        text-align: right;\n",
       "    }\n",
       "</style>\n",
       "<table border=\"1\" class=\"dataframe\">\n",
       "  <thead>\n",
       "    <tr style=\"text-align: right;\">\n",
       "      <th></th>\n",
       "      <th>City</th>\n",
       "      <th>City_ID</th>\n",
       "      <th>Country</th>\n",
       "      <th>Max Temp</th>\n",
       "      <th>Current Description</th>\n",
       "      <th>Lat</th>\n",
       "      <th>Lng</th>\n",
       "      <th>Hotel Name</th>\n",
       "    </tr>\n",
       "  </thead>\n",
       "  <tbody>\n",
       "    <tr>\n",
       "      <th>0</th>\n",
       "      <td>Luton</td>\n",
       "      <td>321</td>\n",
       "      <td>GB</td>\n",
       "      <td>81.00</td>\n",
       "      <td>broken clouds</td>\n",
       "      <td>51.88</td>\n",
       "      <td>-0.42</td>\n",
       "      <td>Hampton by Hilton London Luton Airport</td>\n",
       "    </tr>\n",
       "    <tr>\n",
       "      <th>1</th>\n",
       "      <td>Margate</td>\n",
       "      <td>383</td>\n",
       "      <td>GB</td>\n",
       "      <td>82.99</td>\n",
       "      <td>few clouds</td>\n",
       "      <td>51.38</td>\n",
       "      <td>1.39</td>\n",
       "      <td>Premier Inn Margate hotel</td>\n",
       "    </tr>\n",
       "    <tr>\n",
       "      <th>2</th>\n",
       "      <td>Newport</td>\n",
       "      <td>68</td>\n",
       "      <td>GB</td>\n",
       "      <td>73.99</td>\n",
       "      <td>light rain</td>\n",
       "      <td>51.59</td>\n",
       "      <td>-3.00</td>\n",
       "      <td>ibis budget Newport</td>\n",
       "    </tr>\n",
       "    <tr>\n",
       "      <th>3</th>\n",
       "      <td>Liverpool</td>\n",
       "      <td>659</td>\n",
       "      <td>GB</td>\n",
       "      <td>75.00</td>\n",
       "      <td>scattered clouds</td>\n",
       "      <td>53.41</td>\n",
       "      <td>-2.98</td>\n",
       "      <td>Premier Inn Liverpool City Centre (Moorfields)...</td>\n",
       "    </tr>\n",
       "  </tbody>\n",
       "</table>\n",
       "</div>"
      ],
      "text/plain": [
       "        City  City_ID Country  Max Temp Current Description    Lat   Lng  \\\n",
       "0      Luton      321      GB     81.00       broken clouds  51.88 -0.42   \n",
       "1    Margate      383      GB     82.99          few clouds  51.38  1.39   \n",
       "2    Newport       68      GB     73.99          light rain  51.59 -3.00   \n",
       "3  Liverpool      659      GB     75.00    scattered clouds  53.41 -2.98   \n",
       "\n",
       "                                          Hotel Name  \n",
       "0             Hampton by Hilton London Luton Airport  \n",
       "1                          Premier Inn Margate hotel  \n",
       "2                                ibis budget Newport  \n",
       "3  Premier Inn Liverpool City Centre (Moorfields)...  "
      ]
     },
     "execution_count": 15,
     "metadata": {},
     "output_type": "execute_result"
    }
   ],
   "source": [
    "#A DataFrame that contains the four cities on the itinerary is created\n",
    "itinerary_df_reset = itinerary_df.reset_index()\n",
    "itinerary_df_reset.head()"
   ]
  },
  {
   "cell_type": "code",
   "execution_count": 16,
   "metadata": {},
   "outputs": [],
   "source": [
    "# 9 Using the template add city name, the country code, the weather description and maximum temperature for the city. \n",
    "info_box_template = \"\"\"\n",
    "<dl>\n",
    "<dt>Hotel Name</dt><dd>{Hotel Name}</dd>\n",
    "<dt>City</dt><dd>{City}</dd>\n",
    "<dt>Country</dt><dd>{Country}</dd>\n",
    "<dt>Current Weather</dt><dd>{Current Description}</dd>\n",
    "<dt>Max Temp</dt><dd>{Max Temp} °F</dd>\n",
    "</dl>\n",
    "\"\"\"\n",
    "\n",
    "# 10a Get the data from each row and add it to the formatting template and store the data in a list.\n",
    "hotel_info = [info_box_template.format(**row) for index, row in itinerary_df_reset.iterrows()]\n",
    "\n",
    "# 10b. Get the latitude and longitude from each row and store in a new DataFrame.\n",
    "locations = itinerary_df_reset[[\"Lat\", \"Lng\"]]"
   ]
  },
  {
   "cell_type": "code",
   "execution_count": 17,
   "metadata": {},
   "outputs": [
    {
     "data": {
      "application/vnd.jupyter.widget-view+json": {
       "model_id": "c7439f1813904dfcabfdc2c7f40de882",
       "version_major": 2,
       "version_minor": 0
      },
      "text/plain": [
       "Figure(layout=FigureLayout(height='420px'))"
      ]
     },
     "metadata": {},
     "output_type": "display_data"
    }
   ],
   "source": [
    "# 11a. Add a marker layer for each city to the map.\n",
    "fig = gmaps.figure(center=(52.0, 2.0), zoom_level=6)\n",
    "marker_layer = gmaps.marker_layer(locations, info_box_content=hotel_info)\n",
    "fig.add_layer(marker_layer)\n",
    "# 11b. Display the figure\n",
    "fig"
   ]
  },
  {
   "cell_type": "code",
   "execution_count": null,
   "metadata": {},
   "outputs": [],
   "source": []
  }
 ],
 "metadata": {
  "kernelspec": {
   "display_name": "PythonData",
   "language": "python",
   "name": "pythondata"
  },
  "language_info": {
   "codemirror_mode": {
    "name": "ipython",
    "version": 3
   },
   "file_extension": ".py",
   "mimetype": "text/x-python",
   "name": "python",
   "nbconvert_exporter": "python",
   "pygments_lexer": "ipython3",
   "version": "3.7.7"
  },
  "latex_envs": {
   "LaTeX_envs_menu_present": true,
   "autoclose": false,
   "autocomplete": true,
   "bibliofile": "biblio.bib",
   "cite_by": "apalike",
   "current_citInitial": 1,
   "eqLabelWithNumbers": true,
   "eqNumInitial": 1,
   "hotkeys": {
    "equation": "Ctrl-E",
    "itemize": "Ctrl-I"
   },
   "labels_anchors": false,
   "latex_user_defs": false,
   "report_style_numbering": false,
   "user_envs_cfg": false
  }
 },
 "nbformat": 4,
 "nbformat_minor": 2
}
